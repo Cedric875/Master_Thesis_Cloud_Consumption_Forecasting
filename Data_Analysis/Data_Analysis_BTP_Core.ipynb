{
 "cells": [
  {
   "cell_type": "code",
   "execution_count": 0,
   "metadata": {
    "application/vnd.databricks.v1+cell": {
     "cellMetadata": {
      "byteLimit": 2048000,
      "rowLimit": 10000
     },
     "inputWidgets": {},
     "nuid": "7fdaaf7f-fc81-42eb-8a08-72eb5f29f3e1",
     "showTitle": false,
     "title": ""
    }
   },
   "outputs": [],
   "source": [
    "#import libraries\n",
    "import pandas as pd\n",
    "import matplotlib.pyplot as plt\n",
    "import seaborn as sns\n",
    "from category_encoders import TargetEncoder\n",
    "from statsmodels.tsa.seasonal import seasonal_decompose\n",
    "from statsmodels.graphics.tsaplots import plot_acf, plot_pacf\n"
   ]
  },
  {
   "cell_type": "markdown",
   "metadata": {
    "application/vnd.databricks.v1+cell": {
     "cellMetadata": {
      "byteLimit": 2048000,
      "rowLimit": 10000
     },
     "inputWidgets": {},
     "nuid": "9f67ecd5-ea83-4007-bad1-1d126338bee8",
     "showTitle": false,
     "title": ""
    }
   },
   "source": [
    "Analysis of Raw Data"
   ]
  },
  {
   "cell_type": "code",
   "execution_count": 0,
   "metadata": {
    "application/vnd.databricks.v1+cell": {
     "cellMetadata": {
      "byteLimit": 2048000,
      "rowLimit": 10000
     },
     "inputWidgets": {},
     "nuid": "bdf0bbe6-ead8-4277-8619-980d51bd8e13",
     "showTitle": false,
     "title": ""
    }
   },
   "outputs": [],
   "source": [
    "# Define the relative path to the Dataset folder\n",
    "dataset_path = '../Datasets/btp_core_raw.parquet'\n",
    "\n",
    "# Read the Parquet file into a DataFrame\n",
    "raw_btp_core = pd.read_parquet(dataset_path, engine='pyarrow')\n",
    "\n",
    "# Display the DataFrame\n",
    "print(raw_btp_core)"
   ]
  },
  {
   "cell_type": "code",
   "execution_count": 0,
   "metadata": {
    "application/vnd.databricks.v1+cell": {
     "cellMetadata": {
      "byteLimit": 2048000,
      "rowLimit": 10000
     },
     "inputWidgets": {},
     "nuid": "865baead-0588-4563-8e38-62a9ec6d109e",
     "showTitle": false,
     "title": ""
    }
   },
   "outputs": [],
   "source": [
    "#number of unique customers\n",
    "raw_btp_core['CUSTOMER_ID'].nunique()"
   ]
  },
  {
   "cell_type": "code",
   "execution_count": 0,
   "metadata": {
    "application/vnd.databricks.v1+cell": {
     "cellMetadata": {
      "byteLimit": 2048000,
      "rowLimit": 10000
     },
     "inputWidgets": {},
     "nuid": "5f5e55aa-fc92-447b-9e28-8a0ab2609052",
     "showTitle": false,
     "title": ""
    }
   },
   "outputs": [],
   "source": [
    "# Create a copy of the DataFrame\n",
    "df_copy = raw_btp_core.copy()\n",
    "\n",
    "# Convert the MONTH column to datetime format\n",
    "df_copy['MONTH'] = pd.to_datetime(df_copy['MONTH'].astype(str), format='%Y%m')\n",
    "\n",
    "# Group by MONTH and count unique CUSTOMER_IDs\n",
    "unique_customers_per_month = df_copy.groupby(df_copy['MONTH'].dt.to_period('M'))['CUSTOMER_ID'].nunique()\n",
    "\n",
    "# Plotting\n",
    "unique_customers_per_month.plot(kind='bar', figsize=(12, 6))\n",
    "plt.title('Unique Customers Per Month')\n",
    "plt.xlabel('Month')\n",
    "plt.ylabel('Count of Unique Customers')\n",
    "plt.xticks(rotation=45)\n",
    "plt.tight_layout()\n",
    "plt.show()"
   ]
  },
  {
   "cell_type": "code",
   "execution_count": 0,
   "metadata": {
    "application/vnd.databricks.v1+cell": {
     "cellMetadata": {
      "byteLimit": 2048000,
      "rowLimit": 10000
     },
     "inputWidgets": {},
     "nuid": "34f4068b-e178-4c21-875b-6433d3e657d3",
     "showTitle": false,
     "title": ""
    }
   },
   "outputs": [],
   "source": [
    "# Group by CUSTOMER_ID and count unique MONTHs\n",
    "months_per_customer = df_copy.groupby('CUSTOMER_ID')['MONTH'].nunique()\n",
    "\n",
    "# Plotting the distribution\n",
    "plt.figure(figsize=(12, 6))\n",
    "months_per_customer.value_counts().sort_index().plot(kind='bar', color='lightblue')\n",
    "plt.title('Distribution of Number of Months Per Customer')\n",
    "plt.xlabel('Number of Months')\n",
    "plt.ylabel('Number of Customers')\n",
    "plt.xticks(rotation=0)\n",
    "plt.tight_layout()\n",
    "plt.show()"
   ]
  },
  {
   "cell_type": "code",
   "execution_count": 0,
   "metadata": {
    "application/vnd.databricks.v1+cell": {
     "cellMetadata": {
      "byteLimit": 2048000,
      "rowLimit": 10000
     },
     "inputWidgets": {},
     "nuid": "f5cd45cd-6f8c-497e-9d41-9b32e993c495",
     "showTitle": false,
     "title": ""
    }
   },
   "outputs": [],
   "source": [
    "# Identify the most recent month in the dataset\n",
    "most_recent_month = df_copy['MONTH'].max()\n",
    "\n",
    "# Check which customers do not have data for the most recent month\n",
    "customers_with_most_recent_month = df_copy[df_copy['MONTH'] == most_recent_month]['CUSTOMER_ID'].unique()\n",
    "all_customers = df_copy['CUSTOMER_ID'].unique()\n",
    "customers_without_most_recent_month = set(all_customers) - set(customers_with_most_recent_month)\n",
    "\n",
    "# Count the number of customers without the most recent month\n",
    "num_customers_without_most_recent_month = len(customers_without_most_recent_month)\n",
    "\n",
    "num_customers_without_most_recent_month"
   ]
  },
  {
   "cell_type": "code",
   "execution_count": 0,
   "metadata": {
    "application/vnd.databricks.v1+cell": {
     "cellMetadata": {
      "byteLimit": 2048000,
      "rowLimit": 10000
     },
     "inputWidgets": {},
     "nuid": "32d1c748-8172-4ab8-8f80-4a17382f7cff",
     "showTitle": false,
     "title": ""
    }
   },
   "outputs": [],
   "source": [
    "# Check for null values\n",
    "null_counts = df_copy.isnull().sum()\n",
    "\n",
    "# Check for zeros\n",
    "zero_counts = (df_copy == 0).sum()\n",
    "\n",
    "# Display the results\n",
    "print(\"Null Values in Each Column:\")\n",
    "print(null_counts)\n",
    "\n",
    "print(\"\\nZero Values in Each Column:\")\n",
    "print(zero_counts)\n",
    "\n",
    "# To get a combined view\n",
    "combined_counts = pd.DataFrame({'Nulls': null_counts, 'Zeros': zero_counts})\n",
    "print(\"\\nCombined Nulls and Zeros:\")\n",
    "print(combined_counts)"
   ]
  },
  {
   "cell_type": "code",
   "execution_count": 0,
   "metadata": {
    "application/vnd.databricks.v1+cell": {
     "cellMetadata": {
      "byteLimit": 2048000,
      "rowLimit": 10000
     },
     "inputWidgets": {},
     "nuid": "f6ba9d49-979f-4117-b57c-7ad8a20dec67",
     "showTitle": false,
     "title": ""
    }
   },
   "outputs": [],
   "source": [
    "# Calculate basic statistics for TOTAL_CONSUMPTION\n",
    "mean_consumption = df_copy['TOTAL_CONSUMPTION'].mean()\n",
    "median_consumption = df_copy['TOTAL_CONSUMPTION'].median()\n",
    "std_consumption = df_copy['TOTAL_CONSUMPTION'].std()\n",
    "\n",
    "# Display the statistics\n",
    "print(\"\\nBasic Statistics for TOTAL_CONSUMPTION:\")\n",
    "print(f\"Mean: {mean_consumption}\")\n",
    "print(f\"Median: {median_consumption}\")\n",
    "print(f\"Standard Deviation: {std_consumption}\")"
   ]
  },
  {
   "cell_type": "code",
   "execution_count": 0,
   "metadata": {
    "application/vnd.databricks.v1+cell": {
     "cellMetadata": {
      "byteLimit": 2048000,
      "rowLimit": 10000
     },
     "inputWidgets": {},
     "nuid": "002d3167-6703-4e69-9f09-31ea4266cd77",
     "showTitle": false,
     "title": ""
    }
   },
   "outputs": [],
   "source": [
    "# Plotting the histogram\n",
    "plt.figure(figsize=(12, 6))\n",
    "plt.hist(df_copy['TOTAL_CONSUMPTION'], bins=30, color='lightblue', edgecolor='black')\n",
    "plt.title('Distribution of TOTAL_CONSUMPTION', fontsize=16)\n",
    "plt.xlabel('TOTAL_CONSUMPTION', fontsize=14)\n",
    "plt.ylabel('Frequency', fontsize=14)\n",
    "plt.grid(axis='y', linestyle='--', linewidth=0.7)\n",
    "plt.tight_layout()\n",
    "plt.show()\n"
   ]
  },
  {
   "cell_type": "code",
   "execution_count": 0,
   "metadata": {
    "application/vnd.databricks.v1+cell": {
     "cellMetadata": {
      "byteLimit": 2048000,
      "rowLimit": 10000
     },
     "inputWidgets": {},
     "nuid": "d73f349a-231a-4d66-9421-ad45d3d5a183",
     "showTitle": false,
     "title": ""
    }
   },
   "outputs": [],
   "source": [
    "# Plotting the box plot\n",
    "plt.figure(figsize=(12, 6))\n",
    "plt.boxplot(df_copy['TOTAL_CONSUMPTION'], vert=False, patch_artist=True, boxprops=dict(facecolor='lightblue', color='black'), medianprops=dict(color='red'))\n",
    "plt.title('Box Plot of TOTAL_CONSUMPTION', fontsize=16)\n",
    "plt.xlabel('TOTAL_CONSUMPTION', fontsize=14)\n",
    "plt.grid(axis='x', linestyle='--', linewidth=0.7)\n",
    "plt.tight_layout()\n",
    "plt.show()"
   ]
  },
  {
   "cell_type": "code",
   "execution_count": 0,
   "metadata": {
    "application/vnd.databricks.v1+cell": {
     "cellMetadata": {
      "byteLimit": 2048000,
      "rowLimit": 10000
     },
     "inputWidgets": {},
     "nuid": "d865b4fb-acaf-4bcc-a1af-d49b464f168e",
     "showTitle": false,
     "title": ""
    }
   },
   "outputs": [],
   "source": [
    "import seaborn as sns\n",
    "\n",
    "# Plotting the violin plot\n",
    "plt.figure(figsize=(12, 6))\n",
    "sns.violinplot(x=df_copy['TOTAL_CONSUMPTION'], inner=\"quartile\", color='lightblue')\n",
    "plt.title('Violin Plot of TOTAL_CONSUMPTION', fontsize=16)\n",
    "plt.xlabel('TOTAL_CONSUMPTION', fontsize=14)\n",
    "plt.grid(axis='x', linestyle='--', linewidth=0.7)\n",
    "plt.tight_layout()\n",
    "plt.show()\n"
   ]
  },
  {
   "cell_type": "code",
   "execution_count": 0,
   "metadata": {
    "application/vnd.databricks.v1+cell": {
     "cellMetadata": {
      "byteLimit": 2048000,
      "rowLimit": 10000
     },
     "inputWidgets": {},
     "nuid": "75d50456-0b09-4d38-a157-bbc14437d64f",
     "showTitle": false,
     "title": ""
    }
   },
   "outputs": [],
   "source": [
    "# Plotting the density plot\n",
    "plt.figure(figsize=(12, 6))\n",
    "sns.kdeplot(df_copy['TOTAL_CONSUMPTION'], color='lightblue', fill=True)\n",
    "plt.title('Density Plot of TOTAL_CONSUMPTION', fontsize=16)\n",
    "plt.xlabel('TOTAL_CONSUMPTION', fontsize=14)\n",
    "plt.grid(axis='x', linestyle='--', linewidth=0.7)\n",
    "plt.tight_layout()\n",
    "plt.show()\n"
   ]
  },
  {
   "cell_type": "code",
   "execution_count": 0,
   "metadata": {
    "application/vnd.databricks.v1+cell": {
     "cellMetadata": {
      "byteLimit": 2048000,
      "rowLimit": 10000
     },
     "inputWidgets": {},
     "nuid": "0b9117cb-b1a2-47ac-a144-8fb2c15c39cf",
     "showTitle": false,
     "title": ""
    }
   },
   "outputs": [],
   "source": [
    "# Check for duplicate rows\n",
    "duplicate_rows = df_copy[df_copy.duplicated()]\n",
    "\n",
    "# Display the count of duplicate rows\n",
    "print(f\"Number of duplicate rows: {duplicate_rows.shape[0]}\")\n",
    "\n",
    "# If you want to view the duplicate rows\n",
    "if not duplicate_rows.empty:\n",
    "    print(\"\\nDuplicate Rows:\")\n",
    "    print(duplicate_rows)\n"
   ]
  },
  {
   "cell_type": "markdown",
   "metadata": {
    "application/vnd.databricks.v1+cell": {
     "cellMetadata": {
      "byteLimit": 2048000,
      "rowLimit": 10000
     },
     "inputWidgets": {},
     "nuid": "d9068874-b137-4f77-bd0c-e05eed8e34fd",
     "showTitle": false,
     "title": ""
    }
   },
   "source": [
    "Analysis of aggregated data with new features"
   ]
  },
  {
   "cell_type": "code",
   "execution_count": 0,
   "metadata": {
    "application/vnd.databricks.v1+cell": {
     "cellMetadata": {
      "byteLimit": 2048000,
      "rowLimit": 10000
     },
     "inputWidgets": {},
     "nuid": "b895579a-3723-4ba8-a736-46925fe3d58e",
     "showTitle": false,
     "title": ""
    }
   },
   "outputs": [],
   "source": [
    "# Define the relative path to the Dataset folder\n",
    "dataset_path = '../Datasets/df_aggregated_btp_core_with_mada.parquet'\n",
    "\n",
    "\n",
    "# Read DataFrame from Parquet\n",
    "df_aggregated_btp_core_with_mada = pd.read_parquet(dataset_path, engine='pyarrow')\n",
    "print(df_aggregated_btp_core_with_mada)"
   ]
  },
  {
   "cell_type": "markdown",
   "metadata": {
    "application/vnd.databricks.v1+cell": {
     "cellMetadata": {
      "byteLimit": 2048000,
      "rowLimit": 10000
     },
     "inputWidgets": {},
     "nuid": "8853dccd-90d5-41f7-a5b6-9822aff18249",
     "showTitle": false,
     "title": ""
    }
   },
   "source": [
    "0018894795', '0050124806"
   ]
  },
  {
   "cell_type": "code",
   "execution_count": 0,
   "metadata": {
    "application/vnd.databricks.v1+cell": {
     "cellMetadata": {
      "byteLimit": 2048000,
      "rowLimit": 10000
     },
     "inputWidgets": {},
     "nuid": "c2cda579-e879-4598-a484-7ad56f770b65",
     "showTitle": false,
     "title": ""
    }
   },
   "outputs": [],
   "source": [
    "# Sort the DataFrame by 'TOTAL_CONSUMPTION' in descending order\n",
    "sorted_df = df_aggregated_btp_core_with_mada.sort_values(by='TOTAL_CONSUMPTION_SUM', ascending=False)\n",
    "\n",
    "# Display the top 20 rows\n",
    "top_20_customers = sorted_df[['CUSTOMER_ID', 'TOTAL_CONSUMPTION_SUM']].head(40)\n",
    "print(top_20_customers)\n"
   ]
  },
  {
   "cell_type": "code",
   "execution_count": 0,
   "metadata": {
    "application/vnd.databricks.v1+cell": {
     "cellMetadata": {
      "byteLimit": 2048000,
      "rowLimit": 10000
     },
     "inputWidgets": {},
     "nuid": "c6bb8118-8510-4549-ac3f-fe7da95359a5",
     "showTitle": false,
     "title": ""
    }
   },
   "outputs": [],
   "source": [
    "# Check for null values in each column and display the results\n",
    "null_per_column = df_aggregated_btp_core_with_mada.isnull().sum()\n",
    "\n",
    "# Print the number of null values per column\n",
    "print(null_per_column)\n"
   ]
  },
  {
   "cell_type": "code",
   "execution_count": 0,
   "metadata": {
    "application/vnd.databricks.v1+cell": {
     "cellMetadata": {
      "byteLimit": 2048000,
      "rowLimit": 10000
     },
     "inputWidgets": {},
     "nuid": "c4ca51ff-8116-4a4e-9913-676d008abff4",
     "showTitle": false,
     "title": ""
    }
   },
   "outputs": [],
   "source": [
    "# Check for zero values in each column and display the results\n",
    "zeros_per_column = (df_aggregated_btp_core_with_mada == 0).sum()\n",
    "\n",
    "# Print the number of zero values per column\n",
    "print(zeros_per_column)\n"
   ]
  },
  {
   "cell_type": "code",
   "execution_count": 0,
   "metadata": {
    "application/vnd.databricks.v1+cell": {
     "cellMetadata": {
      "byteLimit": 2048000,
      "rowLimit": 10000
     },
     "inputWidgets": {},
     "nuid": "a692b604-f138-46db-9ce6-c433707dab95",
     "showTitle": false,
     "title": ""
    }
   },
   "outputs": [],
   "source": [
    "# Get summary statistics\n",
    "df_aggregated_btp_core_with_mada.describe()\n"
   ]
  },
  {
   "cell_type": "code",
   "execution_count": 0,
   "metadata": {
    "application/vnd.databricks.v1+cell": {
     "cellMetadata": {
      "byteLimit": 2048000,
      "rowLimit": 10000
     },
     "inputWidgets": {},
     "nuid": "d8684ba3-aee8-4881-bf30-145060b6b373",
     "showTitle": false,
     "title": ""
    }
   },
   "outputs": [],
   "source": [
    "# Check data types and memory usage\n",
    "print(df_aggregated_btp_core_with_mada.info())\n"
   ]
  },
  {
   "cell_type": "code",
   "execution_count": 0,
   "metadata": {
    "application/vnd.databricks.v1+cell": {
     "cellMetadata": {
      "byteLimit": 2048000,
      "rowLimit": 10000
     },
     "inputWidgets": {},
     "nuid": "454f2805-10bd-4e5c-acfa-ca5a4136291a",
     "showTitle": false,
     "title": ""
    }
   },
   "outputs": [],
   "source": [
    "# Check unique values for each column\n",
    "print(df_aggregated_btp_core_with_mada.nunique())\n"
   ]
  },
  {
   "cell_type": "code",
   "execution_count": 0,
   "metadata": {
    "application/vnd.databricks.v1+cell": {
     "cellMetadata": {
      "byteLimit": 2048000,
      "rowLimit": 10000
     },
     "inputWidgets": {},
     "nuid": "2240d2fd-f917-44f5-8891-6046e98f30dd",
     "showTitle": false,
     "title": ""
    }
   },
   "outputs": [],
   "source": [
    "# Plot histograms for numerical columns\n",
    "df_aggregated_btp_core_with_mada.hist(bins=20, figsize=(15, 10))\n",
    "plt.tight_layout()\n",
    "plt.show()\n"
   ]
  },
  {
   "cell_type": "code",
   "execution_count": 0,
   "metadata": {
    "application/vnd.databricks.v1+cell": {
     "cellMetadata": {
      "byteLimit": 2048000,
      "rowLimit": 10000
     },
     "inputWidgets": {},
     "nuid": "93594a41-39d7-40a2-be2c-31416a1e099c",
     "showTitle": false,
     "title": ""
    }
   },
   "outputs": [],
   "source": [
    "# Define the relative path to the Dataset folder\n",
    "dataset_path = '../Datasets/df_aggregated_month_populated_btp_core.parquet'\n",
    "\n",
    "# Read DataFrame from Parquet\n",
    "df_aggregated_month_populated_btp_core = pd.read_parquet(dataset_path, engine='pyarrow')\n",
    "print(df_aggregated_month_populated_btp_core)"
   ]
  },
  {
   "cell_type": "code",
   "execution_count": 0,
   "metadata": {
    "application/vnd.databricks.v1+cell": {
     "cellMetadata": {
      "byteLimit": 2048000,
      "rowLimit": 10000
     },
     "inputWidgets": {},
     "nuid": "dd9c9528-8f17-44c1-a627-048661ef2497",
     "showTitle": false,
     "title": ""
    }
   },
   "outputs": [],
   "source": [
    "# Correlation matrix\n",
    "df_clean = df_aggregated_month_populated_btp_core.drop(columns=['ACTIVE_CONTRACT','YEAR','MONTH','MONTH_SIN','MONTH_COS','TREND'])\n",
    "plt.figure(figsize=(12, 8))\n",
    "sns.heatmap(df_clean.corr(), annot=True, fmt='.2f', cmap='coolwarm')\n",
    "plt.title('Correlation Matrix')\n",
    "plt.show()\n"
   ]
  },
  {
   "cell_type": "code",
   "execution_count": 0,
   "metadata": {
    "application/vnd.databricks.v1+cell": {
     "cellMetadata": {
      "byteLimit": 2048000,
      "rowLimit": 10000
     },
     "inputWidgets": {},
     "nuid": "a55cbb4f-8d30-48bb-95c1-e4171bae712e",
     "showTitle": false,
     "title": ""
    }
   },
   "outputs": [],
   "source": [
    "# List of columns to drop\n",
    "columns_to_drop = [\n",
    "    'ACTIVE_CONTRACT',\n",
    "    'LICENSE_COUNT_SUM',\n",
    "    'MONTHLY_CONTRACT_NET_VALUE_SUM',\n",
    "    'LATEST_CONTRACT_MIN',\n",
    "    'CONTRACT_DURATION_SUM',\n",
    "    'CONTRACT_DURATION_MEAN',\n",
    "    'OVERCONSUMPTION_COUNT',\n",
    "    'BUNDLE_INDICATOR',\n",
    "    'ORDER_COUNT',\n",
    "    'INTEGRATION_SUITE',\n",
    "    'CLOUD_INTEGRATION',\n",
    "    'TOTAL_CONSUMPTION_LAG_1',\n",
    "    'TOTAL_CONSUMPTION_LAG_2',\n",
    "    'TOTAL_CONSUMPTION_LAG_3',\n",
    "    'TOTAL_CONSUMPTION_ROLLING_3',\n",
    "    'TOTAL_CONSUMPTION_ROLLING_6',\n",
    "    'TOTAL_CONSUMPTION_DIFF_1',\n",
    "    'TOTAL_CONSUMPTION_CUMSUM',\n",
    "    'TOTAL_CONSUMPTION_EMA_3'\n",
    "]\n",
    "\n",
    "# Drop the specified columns\n",
    "df_mod = df_aggregated_month_populated_btp_core.drop(columns=columns_to_drop)\n",
    "\n",
    "# One-hot encode 'ISS_TEXT' and 'GLOBAL_REGION'\n",
    "df_mod = pd.get_dummies(df_mod, columns=['ISS_TEXT', 'GLOBAL_REGION'], drop_first=True)\n",
    "\n",
    "# Target encode 'COUNTRY' and 'SAP_MASTER_CODE'\n",
    "target_enc = TargetEncoder()\n",
    "df_mod['COUNTRY'] = target_enc.fit_transform(df_mod['COUNTRY'], df_mod['TOTAL_CONSUMPTION_SUM'])\n",
    "df_mod['SAP_MASTER_CODE'] = target_enc.fit_transform(df_mod['SAP_MASTER_CODE'], df_mod['TOTAL_CONSUMPTION_SUM'])\n",
    "\n",
    "# Correlation matrix with the modified DataFrame\n",
    "plt.figure(figsize=(14, 10))\n",
    "sns.heatmap(df_mod.corr(), annot=True, fmt='.2f', cmap='coolwarm')\n",
    "plt.title('Correlation Matrix with Encoded Features')\n",
    "plt.show()\n"
   ]
  },
  {
   "cell_type": "code",
   "execution_count": 0,
   "metadata": {
    "application/vnd.databricks.v1+cell": {
     "cellMetadata": {
      "byteLimit": 2048000,
      "rowLimit": 10000
     },
     "inputWidgets": {},
     "nuid": "deaec59d-4330-4a1f-8b29-c54ed8e9f0c8",
     "showTitle": false,
     "title": ""
    }
   },
   "outputs": [],
   "source": [
    "# Get value counts and the number of unique categories for categorical columns\n",
    "categorical_columns = ['ISS_TEXT', 'GLOBAL_REGION', 'COUNTRY', 'SAP_MASTER_CODE'] \n",
    "\n",
    "for col in categorical_columns:\n",
    "    print(f\"Value counts for {col}:\")\n",
    "    print(df_aggregated_btp_core_with_mada[col].value_counts())\n",
    "    print(f\"Number of unique categories in {col}: {df_aggregated_btp_core_with_mada[col].nunique()}\")\n",
    "    print(\"\\n\")\n"
   ]
  },
  {
   "cell_type": "code",
   "execution_count": 0,
   "metadata": {
    "application/vnd.databricks.v1+cell": {
     "cellMetadata": {
      "byteLimit": 2048000,
      "rowLimit": 10000
     },
     "inputWidgets": {},
     "nuid": "062a33ef-a40a-4e83-85e8-a944f59138ed",
     "showTitle": false,
     "title": ""
    }
   },
   "outputs": [],
   "source": [
    "# Top 10 highest total consumption\n",
    "print(df_aggregated_btp_core_with_mada[['CUSTOMER_ID', 'TOTAL_CONSUMPTION_SUM']].sort_values(by='TOTAL_CONSUMPTION_SUM', ascending=False).head(10))\n",
    "\n",
    "# Bottom 10 lowest total consumption\n",
    "print(df_aggregated_btp_core_with_mada[['CUSTOMER_ID', 'TOTAL_CONSUMPTION_SUM']].sort_values(by='TOTAL_CONSUMPTION_SUM', ascending=True).head(10))\n"
   ]
  },
  {
   "cell_type": "code",
   "execution_count": 0,
   "metadata": {
    "application/vnd.databricks.v1+cell": {
     "cellMetadata": {
      "byteLimit": 2048000,
      "rowLimit": 10000
     },
     "inputWidgets": {},
     "nuid": "64b4c2cd-282f-4e08-8e3f-b80fb9dae200",
     "showTitle": false,
     "title": ""
    }
   },
   "outputs": [],
   "source": [
    "# Boxplot for 'TOTAL_CONSUMPTION_SUM'\n",
    "plt.figure(figsize=(8, 6))\n",
    "sns.boxplot(df_aggregated_btp_core_with_mada['TOTAL_CONSUMPTION_SUM'])\n",
    "plt.title('Boxplot of TOTAL_CONSUMPTION_SUM')\n",
    "plt.show()\n"
   ]
  },
  {
   "cell_type": "code",
   "execution_count": 0,
   "metadata": {
    "application/vnd.databricks.v1+cell": {
     "cellMetadata": {
      "byteLimit": 2048000,
      "rowLimit": 10000
     },
     "inputWidgets": {},
     "nuid": "13b596c6-38a1-4203-afd6-c72acc37d908",
     "showTitle": false,
     "title": ""
    }
   },
   "outputs": [],
   "source": [
    "# Group by 'MONTH' and sum the total consumption\n",
    "monthly_consumption = df_aggregated_btp_core_with_mada.groupby('DATE')['TOTAL_CONSUMPTION_SUM'].sum()\n",
    "\n",
    "# Plot the total consumption over time\n",
    "plt.figure(figsize=(10, 6))\n",
    "monthly_consumption.plot(kind='line', marker='o')\n",
    "plt.title('Total Consumption Over Time')\n",
    "plt.xlabel('Month')\n",
    "plt.ylabel('Total Consumption (EUR)')\n",
    "plt.grid(True)\n",
    "plt.show()\n"
   ]
  },
  {
   "cell_type": "code",
   "execution_count": 0,
   "metadata": {
    "application/vnd.databricks.v1+cell": {
     "cellMetadata": {
      "byteLimit": 2048000,
      "rowLimit": 10000
     },
     "inputWidgets": {},
     "nuid": "6d5ef017-66a4-4a0a-94fd-f265ce052f79",
     "showTitle": false,
     "title": ""
    }
   },
   "outputs": [],
   "source": [
    "# Step 1: Select only the necessary columns\n",
    "df_real_data = df_aggregated_btp_core_with_mada[['DATE', 'TOTAL_CONSUMPTION_SUM']].copy()\n",
    "\n",
    "# Step 2: Convert 'DATE' to datetime if not already in datetime format\n",
    "df_real_data['DATE'] = pd.to_datetime(df_real_data['DATE'], format='%Y%m', errors='coerce')\n",
    "\n",
    "# Step 3: Remove rows with invalid 'DATE' values\n",
    "df_real_data.dropna(subset=['DATE'], inplace=True)\n",
    "\n",
    "# Step 4: Calculate the overall average of 'TOTAL_CONSUMPTION_SUM'\n",
    "average_consumption_real = df_real_data['TOTAL_CONSUMPTION_SUM'].mean()\n",
    "\n",
    "# Step 5: Optimize plotting by using thinner bars and fewer operations\n",
    "plt.figure(figsize=(12, 6))\n",
    "\n",
    "# Bar plot with optimized width and better handling of large data\n",
    "plt.bar(df_real_data['DATE'], df_real_data['TOTAL_CONSUMPTION_SUM'], color='lightblue', label='Total Consumption', width=10)\n",
    "\n",
    "# Average line plot\n",
    "plt.axhline(y=average_consumption_real, color='orange', linestyle='--', label=f'Average ({average_consumption_real:.2f})')\n",
    "\n",
    "# Labels and title\n",
    "plt.xlabel('Date')\n",
    "plt.ylabel('Total Consumption (EUR)')\n",
    "plt.title('Bar Plot of Total Consumption per Month with Average Line')\n",
    "\n",
    "# Format x-axis labels to show only year and month (YYYY-MM)\n",
    "plt.gca().xaxis.set_major_formatter(plt.matplotlib.dates.DateFormatter('%Y-%m'))\n",
    "\n",
    "# Optional: Only show every nth tick to avoid crowding on the x-axis\n",
    "plt.gca().xaxis.set_major_locator(plt.matplotlib.dates.MonthLocator(interval=6))  # Show every 6 months\n",
    "\n",
    "plt.xticks(rotation=45)\n",
    "\n",
    "# Show legend\n",
    "plt.legend()\n",
    "\n",
    "# Show plot\n",
    "plt.tight_layout()\n",
    "plt.show()\n"
   ]
  },
  {
   "cell_type": "markdown",
   "metadata": {
    "application/vnd.databricks.v1+cell": {
     "cellMetadata": {
      "byteLimit": 2048000,
      "rowLimit": 10000
     },
     "inputWidgets": {},
     "nuid": "1e62152d-eab1-413c-8176-1dffc460f0d8",
     "showTitle": false,
     "title": ""
    }
   },
   "source": [
    "Decompose"
   ]
  },
  {
   "cell_type": "code",
   "execution_count": 0,
   "metadata": {
    "application/vnd.databricks.v1+cell": {
     "cellMetadata": {
      "byteLimit": 2048000,
      "rowLimit": 10000
     },
     "inputWidgets": {},
     "nuid": "48e49c3a-fc7c-47ca-96a1-d0025da7591f",
     "showTitle": false,
     "title": ""
    }
   },
   "outputs": [],
   "source": [
    "# Ensure that 'DATE' is in datetime format\n",
    "df_aggregated_btp_core_with_mada['DATE'] = pd.to_datetime(df_aggregated_btp_core_with_mada['DATE'])\n",
    "\n",
    "# Set 'DATE' as the index\n",
    "df_aggregated_btp_core_with_mada.set_index('DATE', inplace=True)\n",
    "\n",
    "# Aggregate TOTAL_CONSUMPTION_sum by month, sum across customers (adjust based on your need)\n",
    "monthly_consumption = df_aggregated_btp_core_with_mada['TOTAL_CONSUMPTION_SUM'].resample('M').sum()\n",
    "\n",
    "# Perform seasonal decomposition\n",
    "decomposition = seasonal_decompose(monthly_consumption, model='additive')\n",
    "\n",
    "# Plot the decomposed components\n",
    "decomposition.plot()\n",
    "plt.show()\n"
   ]
  },
  {
   "cell_type": "code",
   "execution_count": 0,
   "metadata": {
    "application/vnd.databricks.v1+cell": {
     "cellMetadata": {
      "byteLimit": 2048000,
      "rowLimit": 10000
     },
     "inputWidgets": {},
     "nuid": "688ae882-e330-461a-a953-ae608bec709e",
     "showTitle": false,
     "title": ""
    }
   },
   "outputs": [],
   "source": [
    "# Plot rolling mean and standard deviation\n",
    "rolling_mean = monthly_consumption.rolling(window=12).mean()\n",
    "rolling_std = monthly_consumption.rolling(window=12).std()\n",
    "\n",
    "plt.figure(figsize=(10,6))\n",
    "plt.plot(monthly_consumption, label='Original')\n",
    "plt.plot(rolling_mean, color='red', label='Rolling Mean (Trend)')\n",
    "plt.plot(rolling_std, color='black', label='Rolling Std (Noise)')\n",
    "plt.legend(loc='best')\n",
    "plt.title('Rolling Mean & Standard Deviation')\n",
    "plt.show()\n"
   ]
  },
  {
   "cell_type": "code",
   "execution_count": 0,
   "metadata": {
    "application/vnd.databricks.v1+cell": {
     "cellMetadata": {
      "byteLimit": 2048000,
      "rowLimit": 10000
     },
     "inputWidgets": {},
     "nuid": "e61fa5e1-987e-4908-9999-b5c1201cb6ed",
     "showTitle": false,
     "title": ""
    }
   },
   "outputs": [],
   "source": [
    "# Autocorrelation and Partial Autocorrelation plots\n",
    "plot_acf(monthly_consumption.dropna(), lags=30)\n",
    "plt.show()\n"
   ]
  },
  {
   "cell_type": "code",
   "execution_count": 0,
   "metadata": {
    "application/vnd.databricks.v1+cell": {
     "cellMetadata": {
      "byteLimit": 2048000,
      "rowLimit": 10000
     },
     "inputWidgets": {},
     "nuid": "d68bb3a3-c878-4c54-a375-029d6a94dbdb",
     "showTitle": false,
     "title": ""
    }
   },
   "outputs": [],
   "source": [
    "\n",
    "plot_pacf(monthly_consumption.dropna(), lags=14)\n",
    "plt.show()"
   ]
  },
  {
   "cell_type": "code",
   "execution_count": 0,
   "metadata": {
    "application/vnd.databricks.v1+cell": {
     "cellMetadata": {
      "byteLimit": 2048000,
      "rowLimit": 10000
     },
     "inputWidgets": {},
     "nuid": "32ffaa3e-ed0d-4f55-bc0c-64081e97eac2",
     "showTitle": false,
     "title": ""
    }
   },
   "outputs": [],
   "source": [
    "# Count the number of zeros in TOTAL_CONSUMPTION_SUM per month\n",
    "zero_counts = df_aggregated_btp_core_with_mada.groupby('DATE')['TOTAL_CONSUMPTION_SUM'].apply(lambda x: (x == 0).sum())\n",
    "\n",
    "# Convert the result to a DataFrame for better visualization\n",
    "zero_counts_df = zero_counts.reset_index()\n",
    "zero_counts_df.columns = ['DATE', 'ZERO_COUNT']\n",
    "\n",
    "# Plotting the counts of zeros with wider bars\n",
    "plt.figure(figsize=(12, 6))\n",
    "plt.bar(zero_counts_df['DATE'], zero_counts_df['ZERO_COUNT'], color='lightblue', width=10)  # Adjust the width here\n",
    "plt.title('Count of Zeros in TOTAL_CONSUMPTION_SUM per Month')\n",
    "plt.xlabel('Month')\n",
    "plt.ylabel('Count of Zeros')\n",
    "plt.xticks(rotation=45)\n",
    "plt.grid(axis='y', linestyle='--', alpha=0.7)\n",
    "plt.tight_layout()\n",
    "plt.show()\n"
   ]
  },
  {
   "cell_type": "code",
   "execution_count": 0,
   "metadata": {
    "application/vnd.databricks.v1+cell": {
     "cellMetadata": {
      "byteLimit": 2048000,
      "rowLimit": 10000
     },
     "inputWidgets": {},
     "nuid": "f291ed73-7432-458f-a08a-fe553bb806af",
     "showTitle": false,
     "title": ""
    }
   },
   "outputs": [],
   "source": [
    "# Count months with zero TOTAL_CONSUMPTION_SUM for each customer\n",
    "zero_months_count = df_aggregated_btp_core_with_mada.groupby('CUSTOMER_ID')['TOTAL_CONSUMPTION_SUM'].apply(lambda x: (x == 0).sum())\n",
    "\n",
    "# Convert to DataFrame\n",
    "zero_months_count_df = zero_months_count.reset_index()\n",
    "zero_months_count_df.columns = ['CUSTOMER_ID', 'ZERO_MONTHS']\n",
    "\n",
    "# Count how many customers have how many zero months\n",
    "customer_zero_months_distribution = zero_months_count_df['ZERO_MONTHS'].value_counts().reset_index()\n",
    "customer_zero_months_distribution.columns = ['ZERO_MONTHS', 'CUSTOMER_COUNT']\n",
    "\n",
    "# Plotting the distribution\n",
    "plt.figure(figsize=(12, 6))\n",
    "plt.bar(customer_zero_months_distribution['ZERO_MONTHS'], customer_zero_months_distribution['CUSTOMER_COUNT'], color='lightcoral', width=0.4)\n",
    "plt.title('Distribution of Customers by Number of Months with Zero TOTAL_CONSUMPTION_SUM')\n",
    "plt.xlabel('Number of Months with Zero Consumption')\n",
    "plt.ylabel('Number of Customers')\n",
    "plt.xticks(customer_zero_months_distribution['ZERO_MONTHS'])  # Set x-ticks to the unique number of zero months\n",
    "plt.grid(axis='y', linestyle='--', alpha=0.7)\n",
    "plt.tight_layout()\n",
    "plt.show()\n"
   ]
  },
  {
   "cell_type": "code",
   "execution_count": 0,
   "metadata": {
    "application/vnd.databricks.v1+cell": {
     "cellMetadata": {
      "byteLimit": 2048000,
      "rowLimit": 10000
     },
     "inputWidgets": {},
     "nuid": "082dc97b-f72a-4371-a034-922036b34822",
     "showTitle": false,
     "title": ""
    }
   },
   "outputs": [],
   "source": [
    "# Define the relative path to the Dataset folder\n",
    "dataset_path = '../Datasets/df_aggregated_month_populated_btp_core.parquet'\n",
    "\n",
    "\n",
    "# Read DataFrame from Parquet\n",
    "df_aggregated_month_populated_btp_core = pd.read_parquet(dataset_path, engine='pyarrow')\n",
    "print(df_aggregated_month_populated_btp_core)"
   ]
  },
  {
   "cell_type": "code",
   "execution_count": 0,
   "metadata": {
    "application/vnd.databricks.v1+cell": {
     "cellMetadata": {
      "byteLimit": 2048000,
      "rowLimit": 10000
     },
     "inputWidgets": {},
     "nuid": "23d8f004-f933-4856-9cdd-fc0969231e88",
     "showTitle": false,
     "title": ""
    }
   },
   "outputs": [],
   "source": [
    "# Count the number of zeros in TOTAL_CONSUMPTION_SUM per month\n",
    "zero_counts = df_aggregated_month_populated_btp_core.groupby('DATE')['TOTAL_CONSUMPTION_SUM'].apply(lambda x: (x == 0).sum())\n",
    "\n",
    "# Convert the result to a DataFrame for better visualization\n",
    "zero_counts_df = zero_counts.reset_index()\n",
    "zero_counts_df.columns = ['DATE', 'ZERO_COUNT']\n",
    "\n",
    "# Plotting the counts of zeros with wider bars\n",
    "plt.figure(figsize=(12, 6))\n",
    "plt.bar(zero_counts_df['DATE'], zero_counts_df['ZERO_COUNT'], color='lightblue', width=10)  # Adjust the width here\n",
    "plt.title('Count of Zeros in TOTAL_CONSUMPTION_SUM per Month')\n",
    "plt.xlabel('Month')\n",
    "plt.ylabel('Count of Zeros')\n",
    "plt.xticks(rotation=45)\n",
    "plt.grid(axis='y', linestyle='--', alpha=0.7)\n",
    "plt.tight_layout()\n",
    "plt.show()\n"
   ]
  },
  {
   "cell_type": "code",
   "execution_count": 0,
   "metadata": {
    "application/vnd.databricks.v1+cell": {
     "cellMetadata": {
      "byteLimit": 2048000,
      "rowLimit": 10000
     },
     "inputWidgets": {},
     "nuid": "2036a31c-3daf-4c62-b2c1-7edc26cf5806",
     "showTitle": false,
     "title": ""
    }
   },
   "outputs": [],
   "source": [
    "# Count months with zero TOTAL_CONSUMPTION_SUM for each customer\n",
    "zero_months_count = df_aggregated_month_populated_btp_core.groupby('CUSTOMER_ID')['TOTAL_CONSUMPTION_SUM'].apply(lambda x: (x == 0).sum())\n",
    "\n",
    "# Convert to DataFrame\n",
    "zero_months_count_df = zero_months_count.reset_index()\n",
    "zero_months_count_df.columns = ['CUSTOMER_ID', 'ZERO_MONTHS']\n",
    "\n",
    "# Count how many customers have how many zero months\n",
    "customer_zero_months_distribution = zero_months_count_df['ZERO_MONTHS'].value_counts().reset_index()\n",
    "customer_zero_months_distribution.columns = ['ZERO_MONTHS', 'CUSTOMER_COUNT']\n",
    "\n",
    "# Plotting the distribution\n",
    "plt.figure(figsize=(12, 6))\n",
    "plt.bar(customer_zero_months_distribution['ZERO_MONTHS'], customer_zero_months_distribution['CUSTOMER_COUNT'], color='lightcoral', width=0.4)\n",
    "plt.title('Distribution of Customers by Number of Months with Zero TOTAL_CONSUMPTION_SUM')\n",
    "plt.xlabel('Number of Months with Zero Consumption')\n",
    "plt.ylabel('Number of Customers')\n",
    "plt.xticks(customer_zero_months_distribution['ZERO_MONTHS'])  # Set x-ticks to the unique number of zero months\n",
    "plt.grid(axis='y', linestyle='--', alpha=0.7)\n",
    "plt.tight_layout()\n",
    "plt.show()\n"
   ]
  }
 ],
 "metadata": {
  "application/vnd.databricks.v1+notebook": {
   "dashboards": [],
   "environmentMetadata": {
    "base_environment": "",
    "client": "1"
   },
   "language": "python",
   "notebookMetadata": {
    "pythonIndentUnit": 2
   },
   "notebookName": "Data_Analysis_BTP_Core",
   "widgets": {}
  },
  "language_info": {
   "name": "python"
  }
 },
 "nbformat": 4,
 "nbformat_minor": 0
}
